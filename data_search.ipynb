{
 "cells": [
  {
   "cell_type": "code",
   "id": "initial_id",
   "metadata": {
    "collapsed": true,
    "ExecuteTime": {
     "end_time": "2024-09-15T23:50:04.077861Z",
     "start_time": "2024-09-15T23:50:04.055350Z"
    }
   },
   "source": [
    "import json\n",
    "import os\n",
    "\n",
    "import dotenv\n",
    "from aiohttp.typedefs import StrOrURL\n",
    "\n",
    "from langchain_community.cache import SQLiteCache\n",
    "from langchain_core.globals import set_llm_cache\n",
    "from langchain_core.output_parsers import StrOutputParser\n",
    "from langchain_openai import ChatOpenAI\n",
    "\n",
    "from tqdm import tqdm\n",
    "\n",
    "dotenv.load_dotenv()"
   ],
   "outputs": [
    {
     "data": {
      "text/plain": [
       "True"
      ]
     },
     "execution_count": 64,
     "metadata": {},
     "output_type": "execute_result"
    }
   ],
   "execution_count": 64
  },
  {
   "metadata": {
    "ExecuteTime": {
     "end_time": "2024-09-15T23:50:06.543028Z",
     "start_time": "2024-09-15T23:50:06.513707Z"
    }
   },
   "cell_type": "code",
   "source": [
    "with open('data/Final_TestSet/Final_TestSet.json', 'r', encoding='utf-8') as f:\n",
    "    dataset_init=json.load(f)\n",
    "with open('data/Final_Example.json', 'r', encoding='utf-8') as f:\n",
    "    preliminary_example=json.load(f)\n",
    "\n",
    "for i in range(0, len(dataset_init)):\n",
    "    # 检查数据集文件是否一致\n",
    "    assert dataset_init[i][\"ID\"] == preliminary_example[i][\"ID\"] \n",
    "    assert dataset_init[i][\"question\"] == preliminary_example[i][\"question\"]\n",
    "    \n",
    "print(\"样本数量：\",len(dataset_init))\n",
    "# print(\"问题类型：\",\",\".join(set([item[\"problem_type\"] for item in dataset_init])))\n",
    "\n",
    "\n",
    "FROM=0\n",
    "TO=FROM+512\n",
    "dataset=dataset_init[FROM:TO]\n",
    "# INDEX=[22,23,24,28,41,44,59,64,79,80,93,96]\n",
    "# dataset=[dataset_init[i-1] for i in INDEX]"
   ],
   "id": "ffdd5e309a334511",
   "outputs": [
    {
     "name": "stdout",
     "output_type": "stream",
     "text": [
      "样本数量： 512\n"
     ]
    }
   ],
   "execution_count": 65
  },
  {
   "metadata": {
    "ExecuteTime": {
     "end_time": "2024-09-15T23:50:12.228893Z",
     "start_time": "2024-09-15T23:50:10.470930Z"
    }
   },
   "cell_type": "code",
   "source": [
    "gpt4o=ChatOpenAI(\n",
    "    api_key=os.getenv(\"WLAI_API_KEY\"),\n",
    "    base_url=os.getenv(\"WLAI_BASE_URL\"),\n",
    "    model=\"gpt-4o\",\n",
    ")\n",
    "\n",
    "gpt4o.invoke(\"hello\")\n",
    "set_llm_cache(SQLiteCache(database_path=\".langchain.db.bk\")) # "
   ],
   "id": "ed9aa0c611d6cdc2",
   "outputs": [],
   "execution_count": 66
  },
  {
   "metadata": {},
   "cell_type": "markdown",
   "source": "## 预处理",
   "id": "574afcb7b791980c"
  },
  {
   "metadata": {},
   "cell_type": "markdown",
   "source": [
    "\n",
    "### 修改文件位置\n",
    "1. 构建prompt\n",
    "2. 修改题目中文件名位置"
   ],
   "id": "785a6b9588f98da5"
  },
  {
   "metadata": {
    "ExecuteTime": {
     "end_time": "2024-09-15T23:50:15.207365Z",
     "start_time": "2024-09-15T23:50:15.147130Z"
    }
   },
   "cell_type": "code",
   "source": [
    "from gpt4o import *\n",
    "for i in range(0, len(dataset)):\n",
    "    content = d_template[dataset[i][\"problem_type\"]].format(dataset[i][\"question\"])\n",
    "    filenames = extract_filenames(content)\n",
    "    for filename in filenames:\n",
    "        content = content.replace(filename, add_path(filename, data_path / 'Final_TestSet/data'))\n",
    "    dataset[i][\"content\"]=content"
   ],
   "id": "60042329e696a5cf",
   "outputs": [],
   "execution_count": 67
  },
  {
   "metadata": {},
   "cell_type": "markdown",
   "source": [
    "### rag添加文档信息\n",
    "1.  翻译\n",
    "2. 从翻译提取函数和库\n",
    "3. 查询\n",
    "4. 计划\n",
    "5. rag\n",
    "\n",
    "如何衡量：暂时不做\n",
    "\n",
    "\n"
   ],
   "id": "bba5e17b099af03"
  },
  {
   "metadata": {
    "ExecuteTime": {
     "end_time": "2024-09-15T23:50:21.380057Z",
     "start_time": "2024-09-15T23:50:18.269728Z"
    }
   },
   "cell_type": "code",
   "source": [
    "from tool.model import translate_prompt\n",
    "\n",
    "# 翻译所有问题，已经缓存，所以全量翻译\n",
    "translation_runnable= translate_prompt | gpt4o | StrOutputParser()\n",
    "translation_list = translation_runnable.batch([{\"text\":item[\"question\"]} for item in dataset], config={\"max_concurrency\":1}, return_exceptions=True)\n",
    "for i in range(0,len(dataset)):\n",
    "    dataset[i][\"translation\"]=translation_list[i]"
   ],
   "id": "645074f81eea53b7",
   "outputs": [],
   "execution_count": 68
  },
  {
   "metadata": {
    "ExecuteTime": {
     "end_time": "2024-09-15T23:50:28.281065Z",
     "start_time": "2024-09-15T23:50:24.401401Z"
    }
   },
   "cell_type": "code",
   "source": [
    "from tool.model import extract_runnable\n",
    "\n",
    "# 从翻译中提取出函数和库\n",
    "extract_list=extract_runnable.batch([{\"text\":item[\"translation\"]} for item in dataset[:]], config={\"max_concurrency\":5}, return_exceptions=True)\n",
    "for i in range(len(extract_list)):\n",
    "    # print(i+1,extract_list[i])\n",
    "    dataset[i][\"func_extract\"]=extract_list[i]"
   ],
   "id": "5eb6aaef2040ba7e",
   "outputs": [],
   "execution_count": 69
  },
  {
   "metadata": {
    "ExecuteTime": {
     "end_time": "2024-09-16T00:00:49.327787Z",
     "start_time": "2024-09-15T23:50:33.937183Z"
    }
   },
   "cell_type": "code",
   "source": [
    "from tool.rag_tool import search_documents_by_help_function\n",
    "\n",
    "for i,key_work in tqdm(enumerate(extract_list), total=len(extract_list)):\n",
    "    key_work=key_work if type(key_work) is list else [key_work]\n",
    "    tmp_set=set()\n",
    "    for kw in key_work:\n",
    "        doc=search_documents_by_help_function(kw[\"function_name\"],kw[\"module_name\"])\n",
    "        tmp_set.add(\"<api doc>\\n\" + doc + \"\\n</api doc>\")\n",
    "    dataset[i][\"rag_infos\"]=tmp_set"
   ],
   "id": "913bd5026dc2b63d",
   "outputs": [
    {
     "name": "stderr",
     "output_type": "stream",
     "text": [
      "100%|██████████| 512/512 [10:15<00:00,  1.20s/it]\n"
     ]
    }
   ],
   "execution_count": 70
  },
  {
   "metadata": {
    "ExecuteTime": {
     "end_time": "2024-09-16T01:08:37.309929Z",
     "start_time": "2024-09-16T00:20:42.857761Z"
    }
   },
   "cell_type": "code",
   "source": [
    "import inspect\n",
    "from tool.rag_tool import search_documents_in_mutil_keywords\n",
    "\n",
    "for item in tqdm(dataset[:]):\n",
    "    question=item[\"question\"]\n",
    "    tmp_l=[]\n",
    "    for doc_json,_,_ in search_documents_in_mutil_keywords([], question,5):\n",
    "        function_name=\"\"\n",
    "        for key in doc_json:\n",
    "            if str(key).startswith(\"Field List > Methods > \"):\n",
    "                function_name=key[22:]\n",
    "        if function_name!=\"\":\n",
    "            class_name=doc_json[\"Section_id\"] if \"Section_id\" in doc_json else doc_json[\"Section ID\"]\n",
    "        else:\n",
    "            function_name=doc_json[\"Section_id\"] if \"Section_id\" in doc_json else doc_json[\"Section ID\"]\n",
    "            class_name=\"\"\n",
    "        package_name=doc_json[\"module\"]\n",
    "        \n",
    "        help_doc=search_documents_by_help_function(function_name,package_name)\n",
    "        if len(help_doc)>15000:\n",
    "            init_len=len(help_doc)\n",
    "            help_doc=(gpt4o|StrOutputParser()).invoke(f\"Below is the documentation generated by the help() function. Extract the main information and reduce the word count to 500 words\\n{help_doc}\")\n",
    "            after_len=len(help_doc)\n",
    "            print(f\"{package_name}.{function_name} {init_len} -> {after_len}\")\n",
    "        tmp_l.append(f\"function:{function_name}, class:{class_name}, package:{package_name}, doc:'{repr(help_doc)[1:-1] }'\")\n",
    "    item[\"func_bk\"]=tmp_l\n",
    "    "
   ],
   "id": "fc64b7f89750d3cf",
   "outputs": [
    {
     "name": "stderr",
     "output_type": "stream",
     "text": [
      "  3%|▎         | 16/512 [00:25<18:47,  2.27s/it]"
     ]
    },
    {
     "name": "stdout",
     "output_type": "stream",
     "text": [
      "cdlib.NodeClustering 35313 -> 4758\n"
     ]
    },
    {
     "name": "stderr",
     "output_type": "stream",
     "text": [
      "  4%|▎         | 18/512 [00:26<12:55,  1.57s/it]"
     ]
    },
    {
     "name": "stdout",
     "output_type": "stream",
     "text": [
      "cdlib.AttrNodeClustering 35937 -> 5130\n"
     ]
    },
    {
     "name": "stderr",
     "output_type": "stream",
     "text": [
      "  8%|▊         | 40/512 [01:59<16:13,  2.06s/it]  "
     ]
    },
    {
     "name": "stdout",
     "output_type": "stream",
     "text": [
      "cdlib.BiNodeClustering 35682 -> 7626\n"
     ]
    },
    {
     "name": "stderr",
     "output_type": "stream",
     "text": [
      " 14%|█▍        | 72/512 [03:57<09:35,  1.31s/it]  "
     ]
    },
    {
     "name": "stdout",
     "output_type": "stream",
     "text": [
      "graspologic.DCSBMEstimator 16698 -> 3695\n"
     ]
    },
    {
     "name": "stderr",
     "output_type": "stream",
     "text": [
      " 17%|█▋        | 85/512 [05:07<08:04,  1.13s/it]  "
     ]
    },
    {
     "name": "stdout",
     "output_type": "stream",
     "text": [
      "graspologic.AutoGMMCluster 15441 -> 3025\n",
      "graspologic.DivisiveCluster 19599 -> 3721\n"
     ]
    },
    {
     "name": "stderr",
     "output_type": "stream",
     "text": [
      " 20%|█▉        | 100/512 [05:50<06:55,  1.01s/it]"
     ]
    },
    {
     "name": "stdout",
     "output_type": "stream",
     "text": [
      "cdlib.BiNodeClustering 35682 -> 7626\n"
     ]
    },
    {
     "name": "stderr",
     "output_type": "stream",
     "text": [
      " 20%|█▉        | 101/512 [05:51<06:21,  1.08it/s]"
     ]
    },
    {
     "name": "stdout",
     "output_type": "stream",
     "text": [
      "cdlib.BiNodeClustering 35682 -> 7626\n",
      "cdlib.AttrNodeClustering 35937 -> 5130\n",
      "cdlib.FuzzyNodeClustering 35739 -> 5099\n"
     ]
    },
    {
     "name": "stderr",
     "output_type": "stream",
     "text": [
      " 22%|██▏       | 115/512 [06:07<06:07,  1.08it/s]"
     ]
    },
    {
     "name": "stdout",
     "output_type": "stream",
     "text": [
      "cdlib.AttrNodeClustering 35937 -> 5130\n"
     ]
    },
    {
     "name": "stderr",
     "output_type": "stream",
     "text": [
      " 24%|██▍       | 124/512 [07:05<16:39,  2.58s/it]  "
     ]
    },
    {
     "name": "stdout",
     "output_type": "stream",
     "text": [
      "graspologic.OmnibusEmbed 15033 -> 3442\n"
     ]
    },
    {
     "name": "stderr",
     "output_type": "stream",
     "text": [
      " 29%|██▉       | 151/512 [08:26<06:36,  1.10s/it]"
     ]
    },
    {
     "name": "stdout",
     "output_type": "stream",
     "text": [
      "graspologic.LaplacianSpectralEmbed 15673 -> 3438\n"
     ]
    },
    {
     "name": "stderr",
     "output_type": "stream",
     "text": [
      " 30%|███       | 155/512 [08:58<22:48,  3.83s/it]"
     ]
    },
    {
     "name": "stdout",
     "output_type": "stream",
     "text": [
      "graspologic.DCSBMEstimator 16698 -> 3695\n"
     ]
    },
    {
     "name": "stderr",
     "output_type": "stream",
     "text": [
      " 33%|███▎      | 171/512 [11:01<1:11:49, 12.64s/it]"
     ]
    },
    {
     "name": "stdout",
     "output_type": "stream",
     "text": [
      "graspologic.DCSBMEstimator 16698 -> 3695\n"
     ]
    },
    {
     "name": "stderr",
     "output_type": "stream",
     "text": [
      " 40%|███▉      | 204/512 [12:11<04:48,  1.07it/s]  "
     ]
    },
    {
     "name": "stdout",
     "output_type": "stream",
     "text": [
      "networkx.PlanarEmbedding 73510 -> 3430\n"
     ]
    },
    {
     "name": "stderr",
     "output_type": "stream",
     "text": [
      " 44%|████▍     | 225/512 [12:48<04:54,  1.03s/it]"
     ]
    },
    {
     "name": "stdout",
     "output_type": "stream",
     "text": [
      "graspologic.AdjacencySpectralEmbed 15406 -> 3409\n",
      "graspologic.LaplacianSpectralEmbed 15673 -> 3438\n"
     ]
    },
    {
     "name": "stderr",
     "output_type": "stream",
     "text": [
      " 47%|████▋     | 242/512 [13:41<06:13,  1.38s/it]"
     ]
    },
    {
     "name": "stdout",
     "output_type": "stream",
     "text": [
      "graspologic.LaplacianSpectralEmbed 15673 -> 3438\n"
     ]
    },
    {
     "name": "stderr",
     "output_type": "stream",
     "text": [
      " 51%|█████▏    | 263/512 [14:21<03:57,  1.05it/s]"
     ]
    },
    {
     "name": "stdout",
     "output_type": "stream",
     "text": [
      "graspologic.DCSBMEstimator 16698 -> 3695\n"
     ]
    },
    {
     "name": "stderr",
     "output_type": "stream",
     "text": [
      " 54%|█████▎    | 275/512 [15:51<44:02, 11.15s/it]  "
     ]
    },
    {
     "name": "stdout",
     "output_type": "stream",
     "text": [
      "cdlib.NodeClustering 35313 -> 4758\n",
      "cdlib.AttrNodeClustering 35937 -> 5130\n"
     ]
    },
    {
     "name": "stderr",
     "output_type": "stream",
     "text": [
      " 55%|█████▌    | 284/512 [16:30<10:32,  2.77s/it]"
     ]
    },
    {
     "name": "stdout",
     "output_type": "stream",
     "text": [
      "graspologic.AdjacencySpectralEmbed 15406 -> 3409\n"
     ]
    },
    {
     "name": "stderr",
     "output_type": "stream",
     "text": [
      " 60%|█████▉    | 307/512 [17:11<02:41,  1.27it/s]"
     ]
    },
    {
     "name": "stdout",
     "output_type": "stream",
     "text": [
      "graspologic.AutoGMMCluster 15441 -> 3025\n"
     ]
    },
    {
     "name": "stderr",
     "output_type": "stream",
     "text": [
      " 61%|██████    | 311/512 [17:17<03:44,  1.11s/it]"
     ]
    },
    {
     "name": "stdout",
     "output_type": "stream",
     "text": [
      "cdlib.BiNodeClustering 35682 -> 7626\n"
     ]
    },
    {
     "name": "stderr",
     "output_type": "stream",
     "text": [
      " 62%|██████▏   | 317/512 [17:22<02:50,  1.14it/s]"
     ]
    },
    {
     "name": "stdout",
     "output_type": "stream",
     "text": [
      "networkx.PlanarEmbedding 73510 -> 3430\n"
     ]
    },
    {
     "name": "stderr",
     "output_type": "stream",
     "text": [
      " 63%|██████▎   | 323/512 [17:47<07:15,  2.30s/it]"
     ]
    },
    {
     "name": "stdout",
     "output_type": "stream",
     "text": [
      "cdlib.BiNodeClustering 35682 -> 7626\n"
     ]
    },
    {
     "name": "stderr",
     "output_type": "stream",
     "text": [
      " 76%|███████▌  | 387/512 [20:38<01:53,  1.10it/s]"
     ]
    },
    {
     "name": "stdout",
     "output_type": "stream",
     "text": [
      "igraph.VertexSeq 16652 -> 3257\n"
     ]
    },
    {
     "name": "stderr",
     "output_type": "stream",
     "text": [
      " 80%|███████▉  | 408/512 [24:39<38:42, 22.34s/it]"
     ]
    },
    {
     "name": "stdout",
     "output_type": "stream",
     "text": [
      "graspologic.OmnibusEmbed 15033 -> 3442\n"
     ]
    },
    {
     "name": "stderr",
     "output_type": "stream",
     "text": [
      " 81%|████████  | 413/512 [25:41<16:36, 10.06s/it]"
     ]
    },
    {
     "name": "stdout",
     "output_type": "stream",
     "text": [
      "cdlib.NodeClustering 35313 -> 4758\n",
      "cdlib.AttrNodeClustering 35937 -> 5130\n",
      "graspologic.LaplacianSpectralEmbed 15673 -> 3438\n"
     ]
    },
    {
     "name": "stderr",
     "output_type": "stream",
     "text": [
      " 81%|████████▏ | 417/512 [26:04<08:00,  5.06s/it]"
     ]
    },
    {
     "name": "stdout",
     "output_type": "stream",
     "text": [
      "cdlib.BiNodeClustering 35682 -> 7626\n",
      "cdlib.NodeClustering 35313 -> 4758\n"
     ]
    },
    {
     "name": "stderr",
     "output_type": "stream",
     "text": [
      " 82%|████████▏ | 421/512 [28:10<30:10, 19.90s/it]"
     ]
    },
    {
     "name": "stdout",
     "output_type": "stream",
     "text": [
      "igraph.HullCollection 41806 -> 5688\n"
     ]
    },
    {
     "name": "stderr",
     "output_type": "stream",
     "text": [
      " 82%|████████▏ | 422/512 [28:21<25:43, 17.15s/it]"
     ]
    },
    {
     "name": "stdout",
     "output_type": "stream",
     "text": [
      "cdlib.FuzzyNodeClustering 35739 -> 5099\n",
      "cdlib.NodeClustering 35313 -> 4758\n",
      "cdlib.AttrNodeClustering 35937 -> 5130\n"
     ]
    },
    {
     "name": "stderr",
     "output_type": "stream",
     "text": [
      " 83%|████████▎ | 425/512 [30:17<44:46, 30.88s/it]"
     ]
    },
    {
     "name": "stdout",
     "output_type": "stream",
     "text": [
      "graspologic.DCSBMEstimator 16698 -> 3695\n"
     ]
    },
    {
     "name": "stderr",
     "output_type": "stream",
     "text": [
      " 83%|████████▎ | 426/512 [30:19<31:45, 22.15s/it]"
     ]
    },
    {
     "name": "stdout",
     "output_type": "stream",
     "text": [
      "graspologic.DCSBMEstimator 16698 -> 3695\n"
     ]
    },
    {
     "name": "stderr",
     "output_type": "stream",
     "text": [
      " 85%|████████▍ | 434/512 [32:17<22:18, 17.16s/it]"
     ]
    },
    {
     "name": "stdout",
     "output_type": "stream",
     "text": [
      "graspologic.MultipleASE 15363 -> 2996\n"
     ]
    },
    {
     "name": "stderr",
     "output_type": "stream",
     "text": [
      " 86%|████████▌ | 441/512 [34:05<12:14, 10.34s/it]"
     ]
    },
    {
     "name": "stdout",
     "output_type": "stream",
     "text": [
      "graspologic.LaplacianSpectralEmbed 15673 -> 3438\n"
     ]
    },
    {
     "name": "stderr",
     "output_type": "stream",
     "text": [
      " 88%|████████▊ | 452/512 [35:56<10:52, 10.88s/it]"
     ]
    },
    {
     "name": "stdout",
     "output_type": "stream",
     "text": [
      "graspologic.LaplacianSpectralEmbed 15673 -> 3438\n"
     ]
    },
    {
     "name": "stderr",
     "output_type": "stream",
     "text": [
      " 89%|████████▉ | 457/512 [37:28<11:30, 12.56s/it]"
     ]
    },
    {
     "name": "stdout",
     "output_type": "stream",
     "text": [
      "graspologic.DCSBMEstimator 16698 -> 3695\n"
     ]
    },
    {
     "name": "stderr",
     "output_type": "stream",
     "text": [
      " 90%|█████████ | 461/512 [38:10<06:35,  7.75s/it]"
     ]
    },
    {
     "name": "stdout",
     "output_type": "stream",
     "text": [
      "graspologic.DCSBMEstimator 16698 -> 3695\n"
     ]
    },
    {
     "name": "stderr",
     "output_type": "stream",
     "text": [
      " 90%|█████████ | 463/512 [38:29<07:45,  9.51s/it]"
     ]
    },
    {
     "name": "stdout",
     "output_type": "stream",
     "text": [
      "cdlib.AttrNodeClustering 35937 -> 5130\n",
      "cdlib.NodeClustering 35313 -> 4758\n"
     ]
    },
    {
     "name": "stderr",
     "output_type": "stream",
     "text": [
      " 93%|█████████▎| 477/512 [40:45<06:52, 11.79s/it]"
     ]
    },
    {
     "name": "stdout",
     "output_type": "stream",
     "text": [
      "cdlib.BiNodeClustering 35682 -> 7626\n",
      "cdlib.AttrNodeClustering 35937 -> 5130\n"
     ]
    },
    {
     "name": "stderr",
     "output_type": "stream",
     "text": [
      " 94%|█████████▍| 481/512 [42:15<11:03, 21.40s/it]"
     ]
    },
    {
     "name": "stdout",
     "output_type": "stream",
     "text": [
      "cdlib.FuzzyNodeClustering 35739 -> 5099\n"
     ]
    },
    {
     "name": "stderr",
     "output_type": "stream",
     "text": [
      " 94%|█████████▍| 483/512 [42:53<10:14, 21.19s/it]"
     ]
    },
    {
     "name": "stdout",
     "output_type": "stream",
     "text": [
      "networkx.PlanarEmbedding 73510 -> 3430\n"
     ]
    },
    {
     "name": "stderr",
     "output_type": "stream",
     "text": [
      " 95%|█████████▍| 485/512 [43:14<06:41, 14.87s/it]"
     ]
    },
    {
     "name": "stdout",
     "output_type": "stream",
     "text": [
      "cdlib.AttrNodeClustering 35937 -> 5130\n",
      "cdlib.NodeClustering 35313 -> 4758\n"
     ]
    },
    {
     "name": "stderr",
     "output_type": "stream",
     "text": [
      " 97%|█████████▋| 496/512 [44:56<02:21,  8.85s/it]"
     ]
    },
    {
     "name": "stdout",
     "output_type": "stream",
     "text": [
      "cdlib.AttrNodeClustering 35937 -> 5130\n"
     ]
    },
    {
     "name": "stderr",
     "output_type": "stream",
     "text": [
      " 98%|█████████▊| 501/512 [45:02<00:27,  2.49s/it]"
     ]
    },
    {
     "name": "stdout",
     "output_type": "stream",
     "text": [
      "cdlib.BiNodeClustering 35682 -> 7626\n"
     ]
    },
    {
     "name": "stderr",
     "output_type": "stream",
     "text": [
      " 98%|█████████▊| 504/512 [46:38<02:26, 18.27s/it]"
     ]
    },
    {
     "name": "stdout",
     "output_type": "stream",
     "text": [
      "cdlib.NodeClustering 35313 -> 4758\n"
     ]
    },
    {
     "name": "stderr",
     "output_type": "stream",
     "text": [
      "100%|██████████| 512/512 [47:54<00:00,  5.61s/it]"
     ]
    },
    {
     "name": "stdout",
     "output_type": "stream",
     "text": [
      "graspologic.DCSBMEstimator 16698 -> 3695\n"
     ]
    },
    {
     "name": "stderr",
     "output_type": "stream",
     "text": [
      "\n"
     ]
    }
   ],
   "execution_count": 74
  },
  {
   "metadata": {
    "ExecuteTime": {
     "end_time": "2024-09-16T01:10:21.116895Z",
     "start_time": "2024-09-16T01:10:21.103896Z"
    }
   },
   "cell_type": "code",
   "source": [
    "for i in range(len(dataset)):\n",
    "    dataset[i][\"content\"]=dataset[i][\"content\"]+\"\\n\\nThe following function must be used:\\n\"+\"\\n\".join(dataset[i][\"rag_infos\"])\n",
    "    dataset[i][\"content\"]=dataset[i][\"content\"]+\"\\n\\nThe following functions can be used optionally:\\n\"+\"\\n\".join(dataset[i][\"func_bk\"])"
   ],
   "id": "cae08ab6db5dcf34",
   "outputs": [],
   "execution_count": 75
  },
  {
   "metadata": {},
   "cell_type": "markdown",
   "source": "### 添加目标",
   "id": "ade469fcd36fab0a"
  },
  {
   "metadata": {
    "ExecuteTime": {
     "end_time": "2024-09-15T10:29:44.313915Z",
     "start_time": "2024-09-15T10:28:02.468850Z"
    }
   },
   "cell_type": "code",
   "source": [
    "from tqdm import tqdm\n",
    "from tool.model import cal_prompt, draw_prompt, tof_prompt\n",
    "\n",
    "def get_goals(text:str, problem_type:str):\n",
    "    types=[]\n",
    "    goals=[]\n",
    "    if problem_type.startswith(\"multi\"):\n",
    "        types.extend(problem_type[6:-1].split(\", \"))\n",
    "    else:\n",
    "        types.append(problem_type)\n",
    "\n",
    "    for t in types:\n",
    "        if t==\"calculations\":\n",
    "            prompt=cal_prompt\n",
    "        elif t==\"True/False\":\n",
    "            prompt=tof_prompt\n",
    "        elif t==\"draw\":\n",
    "            prompt=draw_prompt\n",
    "        else:\n",
    "            raise Exception(\"unknown problem type\")\n",
    "    \n",
    "        runnable=prompt|gpt4o|StrOutputParser()\n",
    "        goal=runnable.invoke({\"question\":text})\n",
    "        goals.append(goal)\n",
    "    return goals\n",
    "        \n",
    "        \n",
    "for i in tqdm(range(len(dataset))):\n",
    "    if dataset[i][\"problem_type\"].startswith(\"multi\"):\n",
    "        goals=get_goals(dataset[i][\"question\"], dataset[i][\"problem_type\"])\n",
    "        # print(i+1,goals)\n",
    "        dataset[i][\"goals\"]=goals\n",
    "        dataset[i][\"content\"]=dataset[i][\"content\"]+\"\\n\\n\"+\"\\nwe need to answer following question：\\n\"+\"\\n\".join(goals)\n",
    "    "
   ],
   "id": "2dc0dfd1db5c315b",
   "outputs": [
    {
     "name": "stderr",
     "output_type": "stream",
     "text": [
      "100%|██████████| 512/512 [01:41<00:00,  5.03it/s]\n"
     ]
    }
   ],
   "execution_count": 15
  },
  {
   "metadata": {},
   "cell_type": "markdown",
   "source": [
    "## 运行\n",
    "### 运行agent"
   ],
   "id": "a0ca324b051de187"
  },
  {
   "metadata": {
    "ExecuteTime": {
     "end_time": "2024-09-15T15:48:46.945805Z",
     "start_time": "2024-09-15T15:33:00.973108Z"
    }
   },
   "cell_type": "code",
   "source": [
    "from autogen import Cache\n",
    "\n",
    "def run(item: dict,cache_seed=1):\n",
    "    content = item[\"content\"]\n",
    "    item[\"content\"]=content\n",
    "\n",
    "    # Use DiskCache as cache\n",
    "    with Cache.disk(cache_path_root=\"./autogen_cache\",cache_seed=cache_seed) as cache:\n",
    "        chat_result = code_executor_agent.initiate_chat(\n",
    "            code_writer_agent,\n",
    "            message=content,\n",
    "            summary_method='reflection_with_llm',\n",
    "            summary_args=dict(summary_prompt='only return the code output'),\n",
    "            cache=cache,\n",
    "            silent=True,\n",
    "        )\n",
    "    # code = extract_python_code(chat_result.chat_history[-3]['content'])[-1]\n",
    "    code=\"\"\n",
    "    for i in range(len(chat_result.chat_history)-1, 0, -1):\n",
    "        l=extract_python_code(chat_result.chat_history[i]['content'])\n",
    "        if len(l)>0:\n",
    "            code=l[-1]\n",
    "            break\n",
    "    \n",
    "    answer = chat_result.summary\n",
    "    if isinstance(answer, dict):\n",
    "        answer = answer['content']\n",
    "    item[\"code\"]=code\n",
    "    item[\"answer\"]=answer\n",
    "    # item['chat_history']=chat_result.chat_history\n",
    "    return item\n",
    "\n",
    "\n",
    "for item in tqdm(dataset[498:]):\n",
    "    run(item)\n"
   ],
   "id": "372043cc6b22dc2f",
   "outputs": [
    {
     "name": "stderr",
     "output_type": "stream",
     "text": [
      "  0%|          | 0/14 [00:00<?, ?it/s]"
     ]
    },
    {
     "name": "stdout",
     "output_type": "stream",
     "text": [
      "\u001B[31m\n",
      ">>>>>>>> EXECUTING CODE BLOCK (inferred language is python)...\u001B[0m\n",
      "\u001B[31m\n",
      ">>>>>>>> EXECUTING CODE BLOCK (inferred language is python)...\u001B[0m\n"
     ]
    },
    {
     "name": "stderr",
     "output_type": "stream",
     "text": [
      "  7%|▋         | 1/14 [00:17<03:41, 17.06s/it]"
     ]
    },
    {
     "name": "stdout",
     "output_type": "stream",
     "text": [
      "\u001B[31m\n",
      ">>>>>>>> EXECUTING CODE BLOCK (inferred language is python)...\u001B[0m\n",
      "\u001B[31m\n",
      ">>>>>>>> EXECUTING CODE BLOCK (inferred language is python)...\u001B[0m\n",
      "\u001B[31m\n",
      ">>>>>>>> EXECUTING CODE BLOCK (inferred language is python)...\u001B[0m\n"
     ]
    },
    {
     "name": "stderr",
     "output_type": "stream",
     "text": [
      " 14%|█▍        | 2/14 [00:39<04:06, 20.51s/it]"
     ]
    },
    {
     "name": "stdout",
     "output_type": "stream",
     "text": [
      "\u001B[31m\n",
      ">>>>>>>> EXECUTING CODE BLOCK (inferred language is python)...\u001B[0m\n",
      "\u001B[31m\n",
      ">>>>>>>> EXECUTING CODE BLOCK (inferred language is python)...\u001B[0m\n",
      "\u001B[31m\n",
      ">>>>>>>> EXECUTING CODE BLOCK (inferred language is python)...\u001B[0m\n"
     ]
    },
    {
     "name": "stderr",
     "output_type": "stream",
     "text": [
      " 21%|██▏       | 3/14 [01:07<04:20, 23.72s/it]"
     ]
    },
    {
     "name": "stdout",
     "output_type": "stream",
     "text": [
      "\u001B[31m\n",
      ">>>>>>>> EXECUTING CODE BLOCK (inferred language is python)...\u001B[0m\n",
      "\u001B[31m\n",
      ">>>>>>>> EXECUTING CODE BLOCK (inferred language is python)...\u001B[0m\n"
     ]
    },
    {
     "name": "stderr",
     "output_type": "stream",
     "text": [
      " 29%|██▊       | 4/14 [02:02<06:01, 36.12s/it]"
     ]
    },
    {
     "name": "stdout",
     "output_type": "stream",
     "text": [
      "\u001B[31m\n",
      ">>>>>>>> EXECUTING CODE BLOCK (inferred language is python)...\u001B[0m\n"
     ]
    },
    {
     "name": "stderr",
     "output_type": "stream",
     "text": [
      " 36%|███▌      | 5/14 [02:14<04:05, 27.26s/it]"
     ]
    },
    {
     "name": "stdout",
     "output_type": "stream",
     "text": [
      "\u001B[31m\n",
      ">>>>>>>> EXECUTING CODE BLOCK (inferred language is python)...\u001B[0m\n"
     ]
    },
    {
     "name": "stderr",
     "output_type": "stream",
     "text": [
      " 43%|████▎     | 6/14 [02:28<03:01, 22.73s/it]"
     ]
    },
    {
     "name": "stdout",
     "output_type": "stream",
     "text": [
      "\u001B[31m\n",
      ">>>>>>>> EXECUTING CODE BLOCK (inferred language is python)...\u001B[0m\n"
     ]
    },
    {
     "name": "stderr",
     "output_type": "stream",
     "text": [
      " 50%|█████     | 7/14 [02:39<02:12, 18.88s/it]"
     ]
    },
    {
     "name": "stdout",
     "output_type": "stream",
     "text": [
      "\u001B[31m\n",
      ">>>>>>>> EXECUTING CODE BLOCK (inferred language is python)...\u001B[0m\n"
     ]
    },
    {
     "name": "stderr",
     "output_type": "stream",
     "text": [
      " 57%|█████▋    | 8/14 [02:58<01:55, 19.17s/it]"
     ]
    },
    {
     "name": "stdout",
     "output_type": "stream",
     "text": [
      "\u001B[31m\n",
      ">>>>>>>> EXECUTING CODE BLOCK (inferred language is python)...\u001B[0m\n"
     ]
    },
    {
     "name": "stderr",
     "output_type": "stream",
     "text": [
      " 64%|██████▍   | 9/14 [03:08<01:20, 16.12s/it]"
     ]
    },
    {
     "name": "stdout",
     "output_type": "stream",
     "text": [
      "\u001B[31m\n",
      ">>>>>>>> EXECUTING CODE BLOCK (inferred language is python)...\u001B[0m\n"
     ]
    },
    {
     "name": "stderr",
     "output_type": "stream",
     "text": [
      " 71%|███████▏  | 10/14 [03:17<00:55, 13.91s/it]"
     ]
    },
    {
     "name": "stdout",
     "output_type": "stream",
     "text": [
      "\u001B[31m\n",
      ">>>>>>>> EXECUTING CODE BLOCK (inferred language is python)...\u001B[0m\n",
      "\u001B[31m\n",
      ">>>>>>>> EXECUTING CODE BLOCK (inferred language is python)...\u001B[0m\n"
     ]
    },
    {
     "name": "stderr",
     "output_type": "stream",
     "text": [
      " 79%|███████▊  | 11/14 [03:27<00:38, 12.83s/it]"
     ]
    },
    {
     "name": "stdout",
     "output_type": "stream",
     "text": [
      "\u001B[31m\n",
      ">>>>>>>> EXECUTING CODE BLOCK (inferred language is python)...\u001B[0m\n"
     ]
    },
    {
     "name": "stderr",
     "output_type": "stream",
     "text": [
      " 86%|████████▌ | 12/14 [14:50<07:13, 216.71s/it]"
     ]
    },
    {
     "name": "stdout",
     "output_type": "stream",
     "text": [
      "\u001B[31m\n",
      ">>>>>>>> EXECUTING CODE BLOCK (inferred language is python)...\u001B[0m\n"
     ]
    },
    {
     "name": "stderr",
     "output_type": "stream",
     "text": [
      " 93%|█████████▎| 13/14 [15:02<02:34, 154.78s/it]"
     ]
    },
    {
     "name": "stdout",
     "output_type": "stream",
     "text": [
      "\u001B[31m\n",
      ">>>>>>>> EXECUTING CODE BLOCK (inferred language is python)...\u001B[0m\n",
      "\u001B[31m\n",
      ">>>>>>>> EXECUTING CODE BLOCK (inferred language is python)...\u001B[0m\n"
     ]
    },
    {
     "name": "stderr",
     "output_type": "stream",
     "text": [
      "100%|██████████| 14/14 [15:45<00:00, 67.57s/it] \n"
     ]
    }
   ],
   "execution_count": 32
  },
  {
   "metadata": {},
   "cell_type": "markdown",
   "source": "",
   "id": "180a1e4f2d474d6d"
  },
  {
   "metadata": {},
   "cell_type": "markdown",
   "source": "### voting",
   "id": "5ecaccc4a0c04f1c"
  },
  {
   "metadata": {},
   "cell_type": "code",
   "source": [
    "# for item in [dataset[i-1] for i in [3,6,9,10,12,14,19,21,23,24,28,30,37,40]]:\n",
    "#     temp_answer=[]\n",
    "#     for seed in tqdm(range(1,17)):\n",
    "#         item=run(item,seed)\n",
    "#         code,answer=item[\"code\"],item[\"answer\"]\n",
    "#         temp_answer.append(answer)\n",
    "#     prompt=f\"\"\"从下面的不同人表达中，直接返回大部分人想表达的内容，不附带其他信息：\\n\"\"\"+\"\\n\".join(temp_answer)\n",
    "#     print(item[\"ID\"],(gpt4o|StrOutputParser()).invoke(prompt))\n",
    "        \n",
    "        "
   ],
   "id": "4c573789ee14ab78",
   "outputs": [],
   "execution_count": null
  },
  {
   "metadata": {},
   "cell_type": "markdown",
   "source": "## 存储",
   "id": "573bc4288f92333d"
  },
  {
   "metadata": {
    "ExecuteTime": {
     "end_time": "2024-09-15T23:12:42.792146Z",
     "start_time": "2024-09-15T23:12:42.785136Z"
    }
   },
   "cell_type": "code",
   "source": [
    "for i in dataset:\n",
    "    if type(i['rag_infos']) is set:\n",
    "        i['rag_infos']=list(i['rag_infos'])"
   ],
   "id": "6d415250e3495dec",
   "outputs": [],
   "execution_count": 35
  },
  {
   "metadata": {
    "ExecuteTime": {
     "end_time": "2024-09-15T15:48:56.443797Z",
     "start_time": "2024-09-15T15:48:56.277749Z"
    }
   },
   "cell_type": "code",
   "source": [
    "with open('data/SMP_240915_check_2.json', 'w', encoding='utf-8') as f:\n",
    "    s = json.dumps(dataset, indent=4, ensure_ascii=False)\n",
    "    f.write(s)"
   ],
   "id": "99d59b27c6efe78",
   "outputs": [],
   "execution_count": 34
  },
  {
   "metadata": {},
   "cell_type": "markdown",
   "source": "----",
   "id": "28657a61d400979b"
  },
  {
   "metadata": {},
   "cell_type": "code",
   "source": "raise Exception(\"stop\")",
   "id": "4f8860b7e6239bd2",
   "outputs": [],
   "execution_count": null
  },
  {
   "metadata": {},
   "cell_type": "code",
   "source": [
    "with open('data/SMP_240905_check_1.json', 'r', encoding='utf-8') as f:\n",
    "    tmp_dataset=json.load(f)"
   ],
   "id": "5148f3e17df16072",
   "outputs": [],
   "execution_count": null
  },
  {
   "metadata": {
    "ExecuteTime": {
     "end_time": "2024-09-16T01:10:36.189877Z",
     "start_time": "2024-09-16T01:10:36.129258Z"
    }
   },
   "cell_type": "code",
   "source": [
    "id_and_content=[{\"ID\":i[\"ID\"], \"content\":i[\"content\"]} for i in dataset]\n",
    "with open('data/id_and_content_0916_1.json', 'w', encoding='utf-8') as f:\n",
    "    json.dump(id_and_content, f)"
   ],
   "id": "d940da249dd28e7a",
   "outputs": [],
   "execution_count": 76
  },
  {
   "metadata": {
    "ExecuteTime": {
     "end_time": "2024-09-15T23:25:00.152372Z",
     "start_time": "2024-09-15T23:25:00.118016Z"
    }
   },
   "cell_type": "code",
   "source": "print(dataset[1][\"func_bk\"][6])",
   "id": "5dc053e492298f12",
   "outputs": [
    {
     "ename": "IndexError",
     "evalue": "list index out of range",
     "output_type": "error",
     "traceback": [
      "\u001B[1;31m---------------------------------------------------------------------------\u001B[0m",
      "\u001B[1;31mIndexError\u001B[0m                                Traceback (most recent call last)",
      "Cell \u001B[1;32mIn[57], line 1\u001B[0m\n\u001B[1;32m----> 1\u001B[0m \u001B[38;5;28mprint\u001B[39m(\u001B[43mdataset\u001B[49m\u001B[43m[\u001B[49m\u001B[38;5;241;43m1\u001B[39;49m\u001B[43m]\u001B[49m\u001B[43m[\u001B[49m\u001B[38;5;124;43m\"\u001B[39;49m\u001B[38;5;124;43mfunc_bk\u001B[39;49m\u001B[38;5;124;43m\"\u001B[39;49m\u001B[43m]\u001B[49m\u001B[43m[\u001B[49m\u001B[38;5;241;43m6\u001B[39;49m\u001B[43m]\u001B[49m)\n",
      "\u001B[1;31mIndexError\u001B[0m: list index out of range"
     ]
    }
   ],
   "execution_count": 57
  },
  {
   "metadata": {},
   "cell_type": "code",
   "source": [
    "\n",
    "\n",
    "def remove_empty_values(d):\n",
    "    \"\"\"\n",
    "    递归删除字典中的所有空值（包括空字符串、空列表、空字典、None等）\n",
    "    \"\"\"\n",
    "    if not isinstance(d, dict):\n",
    "        return d\n",
    "    \n",
    "    # 使用字典推导式递归遍历字典\n",
    "    return {k: remove_empty_values(v) for k, v in d.items() if v not in ('', None, [], {}, set(), ())}\n",
    "\n",
    "\n",
    "for i,key_work in tqdm(enumerate(extract_list), total=len(extract_list)):\n",
    "    infos=\"\"\n",
    "    INFO_LIMIT=3000\n",
    "\n",
    "    for item in key_work:\n",
    "        if item[\"function_name\"] != \"\":\n",
    "            module,function = item['module_name'],item['function_name']\n",
    "            api_docs=search_documents(function,module,dataset[i][\"question\"])\n",
    "            for doc in api_docs[:2]:\n",
    "                if len(infos)<INFO_LIMIT:\n",
    "                    if not doc.startswith(\"no\"):\n",
    "                        doc=json.dumps(remove_empty_values(json.loads(doc)))\n",
    "                    infos=infos + \"\\n\\n\"+doc\n",
    "        # 没有抽取，尝试用整个问题查询\n",
    "        else:\n",
    "            api_docs=search_documents(method_description=dataset[i][\"question\"])\n",
    "            for doc in api_docs:\n",
    "                if len(infos)<INFO_LIMIT:\n",
    "                    if not doc.startswith(\"no\"):\n",
    "                        doc=json.dumps(remove_empty_values(json.loads(doc)))\n",
    "                    infos=infos + \"\\n\\n\"+doc\n",
    "    dataset[i][\"rag_infos\"]=infos\n",
    "for i in range(len(dataset)):\n",
    "    dataset[i][\"content\"]=dataset[i][\"content\"]+\"\\n\\n\"+dataset[i][\"rag_infos\"]"
   ],
   "id": "fd8a2ceb820f7a5f",
   "outputs": [],
   "execution_count": null
  },
  {
   "metadata": {},
   "cell_type": "code",
   "source": [
    "for i in range(len(dataset)):\n",
    "    rag_infos=dataset[i][\"rag_infos\"]\n",
    "    print()\n",
    "    print(i+1,extract_list[i],[round(t[1]+t[2],2)  for t in rag_infos])\n",
    "        "
   ],
   "id": "64541ba1e7004493",
   "outputs": [],
   "execution_count": null
  },
  {
   "metadata": {},
   "cell_type": "code",
   "source": [
    "from tool.rag_tool import search_documents_by_help_function\n",
    "\n",
    "for i in range(0,len(dataset)):\n",
    "    for item in extract_list[i]:\n",
    "        fn=item[\"function_name\"].split(\".\")[-1]\n",
    "        mo=str(item[\"module_name\"]).lower().strip().split(\".\")[0]\n",
    "        print(i, fn, mo,end=\" \")\n",
    "        doc=search_documents_by_help_function(fn, mo)\n",
    "        if doc:\n",
    "            print(len(doc))\n",
    "        else:\n",
    "            print(None)\n",
    "            "
   ],
   "id": "146431f170989d4e",
   "outputs": [],
   "execution_count": null
  }
 ],
 "metadata": {
  "kernelspec": {
   "display_name": "Python 3",
   "language": "python",
   "name": "python3"
  },
  "language_info": {
   "codemirror_mode": {
    "name": "ipython",
    "version": 2
   },
   "file_extension": ".py",
   "mimetype": "text/x-python",
   "name": "python",
   "nbconvert_exporter": "python",
   "pygments_lexer": "ipython2",
   "version": "2.7.6"
  }
 },
 "nbformat": 4,
 "nbformat_minor": 5
}
