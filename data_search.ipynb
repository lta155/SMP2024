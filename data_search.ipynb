{
 "cells": [
  {
   "metadata": {
    "ExecuteTime": {
     "end_time": "2024-09-27T07:41:42.764701Z",
     "start_time": "2024-09-27T07:41:42.754455Z"
    }
   },
   "cell_type": "code",
   "source": [
    "import json\n",
    "import os\n",
    "\n",
    "import dotenv\n",
    "\n",
    "from langchain_community.cache import SQLiteCache\n",
    "from langchain_core.globals import set_llm_cache\n",
    "from langchain_core.output_parsers import StrOutputParser\n",
    "from langchain_openai import ChatOpenAI\n",
    "\n",
    "from tqdm import tqdm\n",
    "\n",
    "dotenv.load_dotenv()"
   ],
   "id": "6c5acacbe1107959",
   "outputs": [
    {
     "data": {
      "text/plain": [
       "True"
      ]
     },
     "execution_count": 4,
     "metadata": {},
     "output_type": "execute_result"
    }
   ],
   "execution_count": 4
  },
  {
   "metadata": {
    "ExecuteTime": {
     "end_time": "2024-09-27T07:41:42.889128Z",
     "start_time": "2024-09-27T07:41:42.867131Z"
    }
   },
   "cell_type": "code",
   "source": [
    "with open('data/Final_TestSet/Final_TestSet.json', 'r', encoding='utf-8') as f:\n",
    "    dataset_init=json.load(f)\n",
    "with open('data/Final_Example.json', 'r', encoding='utf-8') as f:\n",
    "    preliminary_example=json.load(f)\n",
    "\n",
    "for i in range(0, len(dataset_init)):\n",
    "    # 检查数据集文件是否一致\n",
    "    assert dataset_init[i][\"ID\"] == preliminary_example[i][\"ID\"] \n",
    "    assert dataset_init[i][\"question\"] == preliminary_example[i][\"question\"]\n",
    "    \n",
    "print(\"样本数量：\",len(dataset_init))\n",
    "# print(\"问题类型：\",\",\".join(set([item[\"problem_type\"] for item in dataset_init])))\n",
    "\n",
    "\n",
    "FROM=0\n",
    "TO=FROM+1\n",
    "dataset=dataset_init[FROM:TO]"
   ],
   "id": "84069d40e467c4fc",
   "outputs": [
    {
     "name": "stdout",
     "output_type": "stream",
     "text": [
      "样本数量： 512\n"
     ]
    }
   ],
   "execution_count": 5
  },
  {
   "metadata": {
    "ExecuteTime": {
     "end_time": "2024-09-27T07:41:44.017417Z",
     "start_time": "2024-09-27T07:41:42.919129Z"
    }
   },
   "cell_type": "code",
   "source": [
    "gpt4o=ChatOpenAI(\n",
    "    api_key=os.getenv(\"API_KEY\"),\n",
    "    base_url=os.getenv(\"BASE_URL\"),\n",
    "    model=\"gpt-4o\",\n",
    ")\n",
    "\n",
    "gpt4o.invoke(\"hello\")\n",
    "set_llm_cache(SQLiteCache(database_path=\".langchain.db.bk\")) # "
   ],
   "id": "55286c5707b8d594",
   "outputs": [],
   "execution_count": 6
  },
  {
   "metadata": {},
   "cell_type": "markdown",
   "source": [
    "## 预处理\n",
    "### 1. 翻译"
   ],
   "id": "5f52202fb492f5ad"
  },
  {
   "metadata": {
    "ExecuteTime": {
     "end_time": "2024-09-27T07:41:44.577186Z",
     "start_time": "2024-09-27T07:41:44.035418Z"
    }
   },
   "cell_type": "code",
   "source": [
    "from tool.langchain_tool import translate_prompt\n",
    "\n",
    "# 翻译所有问题，已经缓存，所以全量翻译\n",
    "translation_runnable= translate_prompt | gpt4o | StrOutputParser()\n",
    "translation_list = translation_runnable.batch([{\"text\":item[\"question\"]} for item in dataset], config={\"max_concurrency\":10}, return_exceptions=True)\n",
    "for i in range(0,len(dataset)):\n",
    "    dataset[i][\"translation\"]=translation_list[i]"
   ],
   "id": "b87776698233b00e",
   "outputs": [],
   "execution_count": 7
  },
  {
   "metadata": {},
   "cell_type": "markdown",
   "source": "### 2. 抽取题目中的函数和类",
   "id": "89235d24201dbd3b"
  },
  {
   "metadata": {
    "ExecuteTime": {
     "end_time": "2024-09-27T07:41:49.104286Z",
     "start_time": "2024-09-27T07:41:44.595189Z"
    }
   },
   "cell_type": "code",
   "source": [
    "from tool.langchain_tool import extract_runnable\n",
    "\n",
    "# 从翻译中提取出函数和库，重复多次，保证成功\n",
    "tmp_extract_dict={}\n",
    "for i in tqdm(range(5)):\n",
    "    tmp_extract_dict[i]=tmp_extract_list=extract_runnable.batch([{\"text\":str(i)+\"\\n\"+item[\"translation\"]} for item in dataset[:]], config={\"max_concurrency\":10}, return_exceptions=True)\n",
    "\n",
    "for i in range(1,len(tmp_extract_dict)):\n",
    "    for j in range(len(tmp_extract_dict[i])):\n",
    "        tmp_extract_dict[0][j].extend(tmp_extract_dict[i][j])\n",
    "\n",
    "def remove_duplicates(lst):\n",
    "    seen = {}\n",
    "    result = []\n",
    "    for d in lst:\n",
    "        # 将字典转换为字符串，这样就可以用作字典的键\n",
    "        dict_str = str(d) #d[\"function_name\"]\n",
    "        if dict_str not in seen:\n",
    "            seen[dict_str] = True\n",
    "            result.append(d)\n",
    "    return result\n",
    "extract_list=[]\n",
    "for item in tmp_extract_dict[0]:\n",
    "    extract_list.append(remove_duplicates(item))\n",
    "\n",
    "for i in range(len(extract_list)):\n",
    "    # print(i+1,extract_list[i])\n",
    "    dataset[i][\"func_extract\"]=extract_list[i]\n"
   ],
   "id": "71a5a82339f5bc1a",
   "outputs": [
    {
     "name": "stderr",
     "output_type": "stream",
     "text": [
      "100%|██████████| 5/5 [00:04<00:00,  1.12it/s]\n"
     ]
    }
   ],
   "execution_count": 8
  },
  {
   "metadata": {},
   "cell_type": "markdown",
   "source": "### 3. 根据搜索到的类型和搜索到的文档，搜索出对应的函数文档",
   "id": "759e9e9ad618b096"
  },
  {
   "metadata": {
    "ExecuteTime": {
     "end_time": "2024-09-27T07:42:08.740298Z",
     "start_time": "2024-09-27T07:41:49.121285Z"
    }
   },
   "cell_type": "code",
   "source": [
    "from tool.rag_tool import search_documents_by_help_function\n",
    "\n",
    "for i,key_work in tqdm(enumerate(extract_list), total=len(extract_list)):\n",
    "    key_work=key_work if type(key_work) is list else [key_work]\n",
    "    tmp_set=set()\n",
    "    for kw in key_work:\n",
    "        # print(kw)\n",
    "        doc=search_documents_by_help_function(\n",
    "            kw[\"function_name\"].split(\".\")[-1],\n",
    "            kw[\"module_name\"].lower().strip().split(\".\")[0]\n",
    "        )\n",
    "        tmp_set.add(\"<api doc>\\n\" + doc + \"\\n</api doc>\")\n",
    "    dataset[i][\"rag_infos\"]=tmp_set"
   ],
   "id": "53550bd1edaf9a8a",
   "outputs": [
    {
     "name": "stdout",
     "output_type": "stream",
     "text": [
      "Note: to be able to use all crisp methods, you need to install some additional packages:  {'graph_tool', 'wurlitzer'}\n",
      "Note: to be able to use all crisp methods, you need to install some additional packages:  {'wurlitzer'}\n"
     ]
    },
    {
     "data": {
      "text/html": [
       "\n",
       "\t\t\t<script type=\"text/javascript\">\n",
       "\t\t\t<!--\n",
       "\t\t\t\t\n",
       "\t\t\t{\n",
       "\t\t\t\tvar element = document.getElementById('NetworKit_script');\n",
       "\t\t\t\tif (element) {\n",
       "\t\t\t\t\telement.parentNode.removeChild(element);\n",
       "\t\t\t\t}\n",
       "\t\t\t\telement = document.createElement('script');\n",
       "\t\t\t\telement.type = 'text/javascript';\n",
       "\t\t\t\telement.innerHTML = 'function NetworKit_pageEmbed(id) { var i, j; var elements; elements = document.getElementById(id).getElementsByClassName(\"Plot\"); for (i=0; i<elements.length; i++) { elements[i].id = id + \"_Plot_\" + i; var data = elements[i].getAttribute(\"data-image\").split(\"|\"); elements[i].removeAttribute(\"data-image\"); var content = \"<div class=\\\\\"Image\\\\\" id=\\\\\"\" + elements[i].id + \"_Image\\\\\" />\"; elements[i].innerHTML = content; elements[i].setAttribute(\"data-image-index\", 0); elements[i].setAttribute(\"data-image-length\", data.length); for (j=0; j<data.length; j++) { elements[i].setAttribute(\"data-image-\" + j, data[j]); } NetworKit_plotUpdate(elements[i]); elements[i].onclick = function (e) { NetworKit_overlayShow((e.target) ? e.target : e.srcElement); } } elements = document.getElementById(id).getElementsByClassName(\"HeatCell\"); for (i=0; i<elements.length; i++) { var data = parseFloat(elements[i].getAttribute(\"data-heat\")); var color = \"#00FF00\"; if (data <= 1 && data > 0) { color = \"hsla(0, 100%, 75%, \" + (data) + \")\"; } else if (data <= 0 && data >= -1) { color = \"hsla(240, 100%, 75%, \" + (-data) + \")\"; } elements[i].style.backgroundColor = color; } elements = document.getElementById(id).getElementsByClassName(\"Details\"); for (i=0; i<elements.length; i++) { elements[i].setAttribute(\"data-title\", \"-\"); NetworKit_toggleDetails(elements[i]); elements[i].onclick = function (e) { NetworKit_toggleDetails((e.target) ? e.target : e.srcElement); } } elements = document.getElementById(id).getElementsByClassName(\"MathValue\"); for (i=elements.length-1; i>=0; i--) { value = elements[i].innerHTML.trim(); if (value === \"nan\") { elements[i].parentNode.innerHTML = \"\" } } elements = document.getElementById(id).getElementsByClassName(\"SubCategory\"); for (i=elements.length-1; i>=0; i--) { value = elements[i].innerHTML.trim(); if (value === \"\") { elements[i].parentNode.removeChild(elements[i]) } } elements = document.getElementById(id).getElementsByClassName(\"Category\"); for (i=elements.length-1; i>=0; i--) { value = elements[i].innerHTML.trim(); if (value === \"\") { elements[i].parentNode.removeChild(elements[i]) } } var isFirefox = false; try { isFirefox = typeof InstallTrigger !== \"undefined\"; } catch (e) {} if (!isFirefox) { alert(\"Currently the function\\'s output is only fully supported by Firefox.\"); } } function NetworKit_plotUpdate(source) { var index = source.getAttribute(\"data-image-index\"); var data = source.getAttribute(\"data-image-\" + index); var image = document.getElementById(source.id + \"_Image\"); image.style.backgroundImage = \"url(\" + data + \")\"; } function NetworKit_showElement(id, show) { var element = document.getElementById(id); element.style.display = (show) ? \"block\" : \"none\"; } function NetworKit_overlayShow(source) { NetworKit_overlayUpdate(source); NetworKit_showElement(\"NetworKit_Overlay\", true); } function NetworKit_overlayUpdate(source) { document.getElementById(\"NetworKit_Overlay_Title\").innerHTML = source.title; var index = source.getAttribute(\"data-image-index\"); var data = source.getAttribute(\"data-image-\" + index); var image = document.getElementById(\"NetworKit_Overlay_Image\"); image.setAttribute(\"data-id\", source.id); image.style.backgroundImage = \"url(\" + data + \")\"; var link = document.getElementById(\"NetworKit_Overlay_Toolbar_Bottom_Save\"); link.href = data; link.download = source.title + \".svg\"; } function NetworKit_overlayImageShift(delta) { var image = document.getElementById(\"NetworKit_Overlay_Image\"); var source = document.getElementById(image.getAttribute(\"data-id\")); var index = parseInt(source.getAttribute(\"data-image-index\")); var length = parseInt(source.getAttribute(\"data-image-length\")); var index = (index+delta) % length; if (index < 0) { index = length + index; } source.setAttribute(\"data-image-index\", index); NetworKit_overlayUpdate(source); } function NetworKit_toggleDetails(source) { var childs = source.children; var show = false; if (source.getAttribute(\"data-title\") == \"-\") { source.setAttribute(\"data-title\", \"+\"); show = false; } else { source.setAttribute(\"data-title\", \"-\"); show = true; } for (i=0; i<childs.length; i++) { if (show) { childs[i].style.display = \"block\"; } else { childs[i].style.display = \"none\"; } } }';\n",
       "\t\t\t\telement.setAttribute('id', 'NetworKit_script');\n",
       "\t\t\t\tdocument.head.appendChild(element);\n",
       "\t\t\t}\n",
       "\t\t\n",
       "\t\t\t\t\n",
       "\t\t\t{\n",
       "\t\t\t\tvar element = document.getElementById('NetworKit_style');\n",
       "\t\t\t\tif (element) {\n",
       "\t\t\t\t\telement.parentNode.removeChild(element);\n",
       "\t\t\t\t}\n",
       "\t\t\t\telement = document.createElement('style');\n",
       "\t\t\t\telement.type = 'text/css';\n",
       "\t\t\t\telement.innerHTML = '.NetworKit_Page { font-family: Arial, Helvetica, sans-serif; font-size: 14px; } .NetworKit_Page .Value:before { font-family: Arial, Helvetica, sans-serif; font-size: 1.05em; content: attr(data-title) \":\"; margin-left: -2.5em; padding-right: 0.5em; } .NetworKit_Page .Details .Value:before { display: block; } .NetworKit_Page .Value { font-family: monospace; white-space: pre; padding-left: 2.5em; white-space: -moz-pre-wrap !important; white-space: -pre-wrap; white-space: -o-pre-wrap; white-space: pre-wrap; word-wrap: break-word; tab-size: 4; -moz-tab-size: 4; } .NetworKit_Page .Category { clear: both; padding-left: 1em; margin-bottom: 1.5em; } .NetworKit_Page .Category:before { content: attr(data-title); font-size: 1.75em; display: block; margin-left: -0.8em; margin-bottom: 0.5em; } .NetworKit_Page .SubCategory { margin-bottom: 1.5em; padding-left: 1em; } .NetworKit_Page .SubCategory:before { font-size: 1.6em; display: block; margin-left: -0.8em; margin-bottom: 0.5em; } .NetworKit_Page .SubCategory[data-title]:before { content: attr(data-title); } .NetworKit_Page .Block { display: block; } .NetworKit_Page .Block:after { content: \".\"; visibility: hidden; display: block; height: 0; clear: both; } .NetworKit_Page .Block .Thumbnail_Overview, .NetworKit_Page .Block .Thumbnail_ScatterPlot { width: 260px; float: left; } .NetworKit_Page .Block .Thumbnail_Overview img, .NetworKit_Page .Block .Thumbnail_ScatterPlot img { width: 260px; } .NetworKit_Page .Block .Thumbnail_Overview:before, .NetworKit_Page .Block .Thumbnail_ScatterPlot:before { display: block; text-align: center; font-weight: bold; } .NetworKit_Page .Block .Thumbnail_Overview:before { content: attr(data-title); } .NetworKit_Page .HeatCell { font-family: \"Courier New\", Courier, monospace; cursor: pointer; } .NetworKit_Page .HeatCell, .NetworKit_Page .HeatCellName { display: inline; padding: 0.1em; margin-right: 2px; background-color: #FFFFFF } .NetworKit_Page .HeatCellName { margin-left: 0.25em; } .NetworKit_Page .HeatCell:before { content: attr(data-heat); display: inline-block; color: #000000; width: 4em; text-align: center; } .NetworKit_Page .Measure { clear: both; } .NetworKit_Page .Measure .Details { cursor: pointer; } .NetworKit_Page .Measure .Details:before { content: \"[\" attr(data-title) \"]\"; display: block; } .NetworKit_Page .Measure .Details .Value { border-left: 1px dotted black; margin-left: 0.4em; padding-left: 3.5em; pointer-events: none; } .NetworKit_Page .Measure .Details .Spacer:before { content: \".\"; opacity: 0.0; pointer-events: none; } .NetworKit_Page .Measure .Plot { width: 440px; height: 440px; cursor: pointer; float: left; margin-left: -0.9em; margin-right: 20px; } .NetworKit_Page .Measure .Plot .Image { background-repeat: no-repeat; background-position: center center; background-size: contain; height: 100%; pointer-events: none; } .NetworKit_Page .Measure .Stat { width: 500px; float: left; } .NetworKit_Page .Measure .Stat .Group { padding-left: 1.25em; margin-bottom: 0.75em; } .NetworKit_Page .Measure .Stat .Group .Title { font-size: 1.1em; display: block; margin-bottom: 0.3em; margin-left: -0.75em; border-right-style: dotted; border-right-width: 1px; border-bottom-style: dotted; border-bottom-width: 1px; background-color: #D0D0D0; padding-left: 0.2em; } .NetworKit_Page .Measure .Stat .Group .List { -webkit-column-count: 3; -moz-column-count: 3; column-count: 3; } .NetworKit_Page .Measure .Stat .Group .List .Entry { position: relative; line-height: 1.75em; } .NetworKit_Page .Measure .Stat .Group .List .Entry[data-tooltip]:before { position: absolute; left: 0; top: -40px; background-color: #808080; color: #ffffff; height: 30px; line-height: 30px; border-radius: 5px; padding: 0 15px; content: attr(data-tooltip); white-space: nowrap; display: none; } .NetworKit_Page .Measure .Stat .Group .List .Entry[data-tooltip]:after { position: absolute; left: 15px; top: -10px; border-top: 7px solid #808080; border-left: 7px solid transparent; border-right: 7px solid transparent; content: \"\"; display: none; } .NetworKit_Page .Measure .Stat .Group .List .Entry[data-tooltip]:hover:after, .NetworKit_Page .Measure .Stat .Group .List .Entry[data-tooltip]:hover:before { display: block; } .NetworKit_Page .Measure .Stat .Group .List .Entry .MathValue { font-family: \"Courier New\", Courier, monospace; } .NetworKit_Page .Measure:after { content: \".\"; visibility: hidden; display: block; height: 0; clear: both; } .NetworKit_Page .PartitionPie { clear: both; } .NetworKit_Page .PartitionPie img { width: 600px; } #NetworKit_Overlay { left: 0px; top: 0px; display: none; position: absolute; width: 100%; height: 100%; background-color: rgba(0,0,0,0.6); z-index: 1000; } #NetworKit_Overlay_Title { position: absolute; color: white; transform: rotate(-90deg); width: 32em; height: 32em; padding-right: 0.5em; padding-top: 0.5em; text-align: right; font-size: 40px; } #NetworKit_Overlay .button { background: white; cursor: pointer; } #NetworKit_Overlay .button:before { size: 13px; display: inline-block; text-align: center; margin-top: 0.5em; margin-bottom: 0.5em; width: 1.5em; height: 1.5em; } #NetworKit_Overlay .icon-close:before { content: \"X\"; } #NetworKit_Overlay .icon-previous:before { content: \"P\"; } #NetworKit_Overlay .icon-next:before { content: \"N\"; } #NetworKit_Overlay .icon-save:before { content: \"S\"; } #NetworKit_Overlay_Toolbar_Top, #NetworKit_Overlay_Toolbar_Bottom { position: absolute; width: 40px; right: 13px; text-align: right; z-index: 1100; } #NetworKit_Overlay_Toolbar_Top { top: 0.5em; } #NetworKit_Overlay_Toolbar_Bottom { Bottom: 0.5em; } #NetworKit_Overlay_ImageContainer { position: absolute; top: 5%; left: 5%; height: 90%; width: 90%; background-repeat: no-repeat; background-position: center center; background-size: contain; } #NetworKit_Overlay_Image { height: 100%; width: 100%; background-repeat: no-repeat; background-position: center center; background-size: contain; }';\n",
       "\t\t\t\telement.setAttribute('id', 'NetworKit_style');\n",
       "\t\t\t\tdocument.head.appendChild(element);\n",
       "\t\t\t}\n",
       "\t\t\n",
       "\t\t\t\t\n",
       "\t\t\t{\n",
       "\t\t\t\tvar element = document.getElementById('NetworKit_Overlay');\n",
       "\t\t\t\tif (element) {\n",
       "\t\t\t\t\telement.parentNode.removeChild(element);\n",
       "\t\t\t\t}\n",
       "\t\t\t\telement = document.createElement('div');\n",
       "\t\t\t\telement.innerHTML = '<div id=\"NetworKit_Overlay_Toolbar_Top\"><div class=\"button icon-close\" id=\"NetworKit_Overlay_Close\" /></div><div id=\"NetworKit_Overlay_Title\" /> <div id=\"NetworKit_Overlay_ImageContainer\"> <div id=\"NetworKit_Overlay_Image\" /> </div> <div id=\"NetworKit_Overlay_Toolbar_Bottom\"> <div class=\"button icon-previous\" onclick=\"NetworKit_overlayImageShift(-1)\" /> <div class=\"button icon-next\" onclick=\"NetworKit_overlayImageShift(1)\" /> <a id=\"NetworKit_Overlay_Toolbar_Bottom_Save\"><div class=\"button icon-save\" /></a> </div>';\n",
       "\t\t\t\telement.setAttribute('id', 'NetworKit_Overlay');\n",
       "\t\t\t\tdocument.body.appendChild(element);\n",
       "\t\t\t\tdocument.getElementById('NetworKit_Overlay_Close').onclick = function (e) {\n",
       "\t\t\t\t\tdocument.getElementById('NetworKit_Overlay').style.display = 'none';\n",
       "\t\t\t\t}\n",
       "\t\t\t}\n",
       "\t\t\n",
       "\t\t\t-->\n",
       "\t\t\t</script>\n",
       "\t\t"
      ]
     },
     "metadata": {},
     "output_type": "display_data"
    },
    {
     "name": "stderr",
     "output_type": "stream",
     "text": [
      "100%|██████████| 1/1 [00:00<00:00, 90.90it/s]\n"
     ]
    }
   ],
   "execution_count": 9
  },
  {
   "metadata": {},
   "cell_type": "markdown",
   "source": "### 4. 根据题目，搜索向量数据库的相关函数/类，然后获取相关函数/类的文档 ",
   "id": "27d535bb5d996dc1"
  },
  {
   "metadata": {
    "ExecuteTime": {
     "end_time": "2024-09-27T07:42:10.102039Z",
     "start_time": "2024-09-27T07:42:08.764297Z"
    }
   },
   "cell_type": "code",
   "source": [
    "from tool.rag_tool import search_documents_in_mutil_keywords\n",
    "\n",
    "for item in tqdm(dataset[:]):\n",
    "    question=item[\"question\"]\n",
    "    tmp_l=[]\n",
    "    for doc_json,_,_ in search_documents_in_mutil_keywords([], question,10):\n",
    "        function_name=\"\"\n",
    "        for key in doc_json:\n",
    "            if str(key).startswith(\"Field List > Methods > \"):\n",
    "                function_name=key[22:].strip()\n",
    "        if function_name!=\"\":\n",
    "            class_name=doc_json[\"Section_id\"] if \"Section_id\" in doc_json else doc_json[\"Section ID\"]\n",
    "        else:\n",
    "            function_name=doc_json[\"Section_id\"] if \"Section_id\" in doc_json else doc_json[\"Section ID\"]\n",
    "            class_name=\"\"\n",
    "        package_name=doc_json[\"module\"]\n",
    "        \n",
    "        help_doc=search_documents_by_help_function(function_name,package_name)\n",
    "        if len(help_doc)>15000:\n",
    "            init_len=len(help_doc)\n",
    "            help_doc=(gpt4o|StrOutputParser()).invoke(f\"Below is the documentation generated by the help() function. Extract the main information and reduce the word count to 500 words\\n{help_doc}\")\n",
    "            after_len=len(help_doc)\n",
    "            # print(f\"{package_name}.{function_name} {init_len} -> {after_len}\")\n",
    "        tmp_l.append(f\"function:{function_name}, class:{class_name}, package:{package_name}, doc:'{repr(help_doc)[1:-1] }'\")\n",
    "    item[\"func_bk\"]=tmp_l\n",
    "    "
   ],
   "id": "7110f7c11bcb6723",
   "outputs": [
    {
     "name": "stderr",
     "output_type": "stream",
     "text": [
      "100%|██████████| 1/1 [00:01<00:00,  1.32s/it]\n"
     ]
    }
   ],
   "execution_count": 10
  },
  {
   "metadata": {},
   "cell_type": "markdown",
   "source": "### 5. 构建把所有信息构建prompt",
   "id": "3441b2e68a869dd9"
  },
  {
   "metadata": {
    "ExecuteTime": {
     "end_time": "2024-09-27T07:42:11.187595Z",
     "start_time": "2024-09-27T07:42:10.119508Z"
    }
   },
   "cell_type": "code",
   "source": [
    "from tool.autogen_tool import *\n",
    "for i in range(0, len(dataset)):\n",
    "    # 顺序 rag的函数文档-抽取的函数文档-题目\n",
    "    content=\"\"\n",
    "    \n",
    "    content += \"\\n\\nThe following functions can be used optionally:\\n\"+\"\\n\".join(dataset[i][\"func_bk\"])\n",
    "    \n",
    "    content += \"\\n\\nThe following function must be used:\\n\"+\"\\n\".join(dataset[i][\"rag_infos\"])\n",
    "    \n",
    "    question = d_template[dataset[i][\"problem_type\"]].format(dataset[i][\"question\"])\n",
    "    # filenames = extract_filenames(question)\n",
    "    # for filename in filenames:\n",
    "    #     question = question.replace(filename, add_path(filename, data_path / 'Final_TestSet/data'))\n",
    "    content += \"\\n\\n\\n\"+question+\"\\n\\n\"\n",
    "\n",
    "    dataset[i][\"content\"]=content\n"
   ],
   "id": "9665fab531bebd44",
   "outputs": [],
   "execution_count": 11
  },
  {
   "metadata": {
    "ExecuteTime": {
     "end_time": "2024-09-27T07:42:11.217593Z",
     "start_time": "2024-09-27T07:42:11.204592Z"
    }
   },
   "cell_type": "code",
   "source": "",
   "id": "c9b0cefe2f92e0bf",
   "outputs": [],
   "execution_count": null
  },
  {
   "metadata": {},
   "cell_type": "markdown",
   "source": [
    "### 添加目标\n",
    "对于mutil类，这里给这种类型添加额外的目标说明，保证其输出"
   ],
   "id": "16b41a57ec21c910"
  },
  {
   "metadata": {
    "ExecuteTime": {
     "end_time": "2024-09-27T07:42:11.247598Z",
     "start_time": "2024-09-27T07:42:11.234594Z"
    }
   },
   "cell_type": "code",
   "source": [
    "from tqdm import tqdm\n",
    "from tool.langchain_tool import cal_prompt, draw_prompt, tof_prompt\n",
    "\n",
    "def get_goals(text:str, problem_type:str):\n",
    "    types=[]\n",
    "    goals=[]\n",
    "    if problem_type.startswith(\"multi\"):\n",
    "        types.extend(problem_type[6:-1].split(\", \"))\n",
    "    else:\n",
    "        types.append(problem_type)\n",
    "\n",
    "    for t in types:\n",
    "        if t==\"calculations\":\n",
    "            prompt=cal_prompt\n",
    "        elif t==\"True/False\":\n",
    "            prompt=tof_prompt\n",
    "        elif t==\"draw\":\n",
    "            prompt=draw_prompt\n",
    "        else:\n",
    "            raise Exception(\"unknown problem type\")\n",
    "    \n",
    "        runnable=prompt|gpt4o|StrOutputParser()\n",
    "        goal=runnable.invoke({\"question\":text})\n",
    "        goals.append(goal)\n",
    "    return goals\n",
    "        \n",
    "        \n",
    "for i in tqdm(range(len(dataset))):\n",
    "    if dataset[i][\"problem_type\"].startswith(\"multi\"):\n",
    "        goals=get_goals(dataset[i][\"question\"], dataset[i][\"problem_type\"])\n",
    "        # print(i+1,goals)\n",
    "        dataset[i][\"goals\"]=goals\n",
    "        dataset[i][\"content\"]=dataset[i][\"content\"]+\"\\n\\n\"+\"\\nwe need to answer following question：\\n\"+\"\\n\".join(goals)\n",
    "    "
   ],
   "id": "73d0f46a0107d17a",
   "outputs": [
    {
     "name": "stderr",
     "output_type": "stream",
     "text": [
      "100%|██████████| 1/1 [00:00<?, ?it/s]\n"
     ]
    }
   ],
   "execution_count": 12
  },
  {
   "metadata": {
    "ExecuteTime": {
     "end_time": "2024-09-27T07:42:11.279596Z",
     "start_time": "2024-09-27T07:42:11.264594Z"
    }
   },
   "cell_type": "code",
   "source": [
    "id_and_content=[{\"ID\":i[\"ID\"], \"content\":i[\"content\"]} for i in dataset]\n",
    "with open('data/id_and_content.json', 'w', encoding='utf-8') as f:\n",
    "    json.dump(id_and_content, f)"
   ],
   "id": "3bcd8335be3a3d5c",
   "outputs": [],
   "execution_count": 13
  },
  {
   "metadata": {
    "ExecuteTime": {
     "end_time": "2024-09-27T07:42:12.117658Z",
     "start_time": "2024-09-27T07:42:11.297198Z"
    }
   },
   "cell_type": "code",
   "source": "raise Exception(\"stop\")",
   "id": "135b4b00091795fe",
   "outputs": [
    {
     "ename": "Exception",
     "evalue": "stop",
     "output_type": "error",
     "traceback": [
      "\u001B[1;31m---------------------------------------------------------------------------\u001B[0m",
      "\u001B[1;31mException\u001B[0m                                 Traceback (most recent call last)",
      "Cell \u001B[1;32mIn[14], line 1\u001B[0m\n\u001B[1;32m----> 1\u001B[0m \u001B[38;5;28;01mraise\u001B[39;00m \u001B[38;5;167;01mException\u001B[39;00m(\u001B[38;5;124m\"\u001B[39m\u001B[38;5;124mstop\u001B[39m\u001B[38;5;124m\"\u001B[39m)\n",
      "\u001B[1;31mException\u001B[0m: stop"
     ]
    }
   ],
   "execution_count": 14
  },
  {
   "metadata": {},
   "cell_type": "markdown",
   "source": [
    "----\n",
    "## 以下为测试代码"
   ],
   "id": "a720e8d6f6829d97"
  },
  {
   "metadata": {},
   "cell_type": "code",
   "source": "dataset[5][\"content\"]",
   "id": "c5071371409bdd24",
   "outputs": [],
   "execution_count": null
  },
  {
   "metadata": {},
   "cell_type": "markdown",
   "source": [
    "## 运行\n",
    "### 运行agent"
   ],
   "id": "1aa5787a1e6b2bf7"
  },
  {
   "metadata": {},
   "cell_type": "code",
   "source": [
    "from autogen import Cache\n",
    "\n",
    "from tool.autogen_tool import *\n",
    "\n",
    "def run(item: dict,cache_seed=1):\n",
    "    content = item[\"content\"]\n",
    "    item[\"content\"]=content\n",
    "\n",
    "    # Use DiskCache as cache\n",
    "    with Cache.disk(cache_path_root=\"./autogen_cache\",cache_seed=cache_seed) as cache:\n",
    "        chat_result = code_executor_agent.initiate_chat(\n",
    "            code_writer_agent,\n",
    "            message=content,\n",
    "            summary_method='reflection_with_llm',\n",
    "            summary_args=dict(summary_prompt='only return the code output, if no output just return \"done!\"'),\n",
    "            cache=cache,\n",
    "            # silent=True,\n",
    "        )\n",
    "    # code = extract_python_code(chat_result.chat_history[-3]['content'])[-1]\n",
    "    code=\"\"\n",
    "    for i in range(len(chat_result.chat_history)-1, 0, -1):\n",
    "        l=extract_python_code(chat_result.chat_history[i]['content'])\n",
    "        if len(l)>0:\n",
    "            code=l[-1]\n",
    "            break\n",
    "    \n",
    "    answer = chat_result.summary\n",
    "    if isinstance(answer, dict):\n",
    "        answer = answer['content']\n",
    "    item[\"code\"]=code\n",
    "    item[\"answer\"]=answer\n",
    "    # item['chat_history']=chat_result.chat_history\n",
    "    return item\n",
    "\n",
    "\n",
    "for item in tqdm(dataset[487:488]):\n",
    "    run(item)\n"
   ],
   "id": "e65cbc2f583d3d75",
   "outputs": [],
   "execution_count": null
  },
  {
   "metadata": {},
   "cell_type": "markdown",
   "source": "",
   "id": "358e20729af3f21b"
  },
  {
   "metadata": {},
   "cell_type": "markdown",
   "source": "## 存储",
   "id": "6e385dd31a767b31"
  },
  {
   "metadata": {},
   "cell_type": "code",
   "source": [
    "for i in dataset:\n",
    "    if type(i['rag_infos']) is set:\n",
    "        i['rag_infos']=list(i['rag_infos'])"
   ],
   "id": "b5fd98e775cd83d6",
   "outputs": [],
   "execution_count": null
  },
  {
   "metadata": {},
   "cell_type": "code",
   "source": [
    "with open('data/SMP_240917_check_1.json', 'w', encoding='utf-8') as f:\n",
    "    s = json.dumps(dataset, indent=4, ensure_ascii=False)\n",
    "    f.write(s)"
   ],
   "id": "baccd2846d1d777f",
   "outputs": [],
   "execution_count": null
  }
 ],
 "metadata": {
  "kernelspec": {
   "display_name": "Python 3",
   "language": "python",
   "name": "python3"
  },
  "language_info": {
   "codemirror_mode": {
    "name": "ipython",
    "version": 2
   },
   "file_extension": ".py",
   "mimetype": "text/x-python",
   "name": "python",
   "nbconvert_exporter": "python",
   "pygments_lexer": "ipython2",
   "version": "2.7.6"
  }
 },
 "nbformat": 4,
 "nbformat_minor": 5
}
